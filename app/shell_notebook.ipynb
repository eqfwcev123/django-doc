{
 "cells": [
  {
   "cell_type": "markdown",
   "metadata": {},
   "source": [
    "### 노트\n",
    "---\n",
    "Class.objects.create() 는 인스턴스를 생성한다. save()를 안해도 된다. 자동 저장.\n",
    "Class() 도 인스턴스를 반환한다. 하지만 인스턴스를 생성한 후 .save()를 해줘야 한다.\n",
    "\n",
    "add(), create(), set() 을 이용해서 relationship 을 생성한다\n",
    "\n",
    "\n",
    "**Class RelatedManager** 인스턴스와 인스턴스간의 관계를 설정해주는 메소드들\n",
    "> Many To Many 필드에는 bulk가 없다.\n",
    "\n",
    "A related manager is a manger used in a  one-to-many or many-to-many related context.\n",
    "This happens in two cases:\n",
    "1. Many-to-one relationship(Foreign key)\n",
    "2. Many-to-Many relationship (ManyToManyField)\n",
    "\n",
    "add(*objs, bulk=True, through_defaults = None): Adds the specified model objects to the related object set. 관계를 이어줌\n",
    "remove(*obj, bulk=True) : Removes the specified model objects from the related object set\n",
    "\n",
    "clear(bulk=True): Removes all objects from te related object set. 인스턴스의 모든 관계를 끊는다\n",
    "    \n",
    "set(objs, bulk=True, clear=False, through_defaults=None): Replace teh set of related objects.\n",
    "\n",
    "\n",
    "인스턴스.[필드명]_set.all() : 다른 필드에서 참조 하는 인스턴스를 QuerySet 형식으로 반환한다.\n",
    "\n",
    "\n",
    "### Many-To-Many arguments. ManyToManyField([여기에 오는 것들])\n",
    "1. ManyToManyField.related_name\n",
    "2. ManyToManyField.related_query_name\n",
    "3. ManyToManyField.limit_choices_to\n",
    "4. ManyToManyField.Symmertrical : Many-To-Many 필드에서 자기자신을 가리킬 수 있다. 이때 ManyToMany 필드를 Symmetrical 하다고 할 수 있다.\n",
    "자기 자신과 관계를 갖는것을 recursive 이라고 한다. Symmetry 를 원하지 않으면 False로 바꿔주면 된다.\n",
    "5. ManyToManyField.through : ManyToMany 필드를 사용할때 장고는 자동으로 테이블을 하나 만든다. 이 테이블이 자동으로 만들어 지는것을 원하지 않고\n",
    "직접 테이블을 만들고 싶을 경우 through=[모델이름]을 해주면 된다.\n",
    "6. ManyToManyField.through_fields\n",
    "7. ManyToManyField.db_table\n",
    "8. ManyToManyField.db_constraint\n",
    "9. ManyToManyField.swappable\n"
   ]
  },
  {
   "cell_type": "code",
   "execution_count": 31,
   "metadata": {},
   "outputs": [
    {
     "data": {
      "text/plain": [
       "many_to_one.models.Car"
      ]
     },
     "execution_count": 31,
     "metadata": {},
     "output_type": "execute_result"
    }
   ],
   "source": [
    "from many_to_one.models import Manufacture, Car\n",
    "\n",
    "# audi 는 self.name 때무네 R8이다.\n",
    "audi = Manufacture.objects.create(name='R8') \n",
    "audi.name\n",
    "# Car.manufacture must be a Manufacture instance\n",
    "r81 = Car.objects.create(manufacture = audi , name = 'r81')\n",
    "type(r81) # 인스턴스 타입\n",
    "# Foreign key로 가리킬 모델을 만들어 놔야한다"
   ]
  },
  {
   "cell_type": "code",
   "execution_count": 22,
   "metadata": {},
   "outputs": [],
   "source": [
    "volksWagen = Manufacture.objects.create(name='volkswagen')\n",
    "bugatti = Car.objects.create(manufacture=volksWagen, name='bugatti')"
   ]
  },
  {
   "cell_type": "code",
   "execution_count": 24,
   "metadata": {},
   "outputs": [
    {
     "name": "stdout",
     "output_type": "stream",
     "text": [
      "volkswagen\n"
     ]
    }
   ],
   "source": [
    "print(bugatti.manufacture)"
   ]
  },
  {
   "cell_type": "code",
   "execution_count": 1,
   "metadata": {},
   "outputs": [],
   "source": [
    "from many_to_many.models import Article,Publication"
   ]
  },
  {
   "cell_type": "code",
   "execution_count": 39,
   "metadata": {},
   "outputs": [],
   "source": [
    "p1 = Publication(title = 'The Python Journal') #인스턴스\n",
    "p1.save()\n",
    "p2 = Publication(title = 'Science News') #인스턴스\n",
    "p2.save()\n",
    "p3 = Publication(title = 'Science Weekly') #인스턴스\n",
    "p3.save()\n"
   ]
  },
  {
   "cell_type": "code",
   "execution_count": 40,
   "metadata": {},
   "outputs": [],
   "source": [
    "a1 = Article(headline = 'Django lets you build web apps easily') # Article 인스턴스\n",
    "a1.save()\n"
   ]
  },
  {
   "cell_type": "code",
   "execution_count": 42,
   "metadata": {},
   "outputs": [],
   "source": [
    "a1.publications.add(p1)"
   ]
  },
  {
   "cell_type": "code",
   "execution_count": 41,
   "metadata": {},
   "outputs": [],
   "source": [
    "a2 = Article(headline = 'NASA uses Python') # Article 인스턴스 \n",
    "a2.save()\n",
    "a2.publications.add(p1,p2)\n",
    "a2.publications.add(p3)"
   ]
  },
  {
   "cell_type": "code",
   "execution_count": 9,
   "metadata": {},
   "outputs": [],
   "source": [
    "new_publication = a2.publications.create(title='Highlights for Children')"
   ]
  },
  {
   "cell_type": "code",
   "execution_count": 18,
   "metadata": {},
   "outputs": [],
   "source": [
    "a1.publications.add(p3)"
   ]
  },
  {
   "cell_type": "code",
   "execution_count": 19,
   "metadata": {},
   "outputs": [],
   "source": [
    "p4 = Publication(title = 'The Javascript Journal') #인스턴스\n",
    "p4.save()"
   ]
  },
  {
   "cell_type": "code",
   "execution_count": 20,
   "metadata": {},
   "outputs": [],
   "source": [
    "a1.publications.add(p4)"
   ]
  },
  {
   "cell_type": "code",
   "execution_count": 21,
   "metadata": {},
   "outputs": [],
   "source": [
    "a2.publications.clear()"
   ]
  },
  {
   "cell_type": "code",
   "execution_count": 27,
   "metadata": {},
   "outputs": [
    {
     "data": {
      "text/plain": [
       "<QuerySet []>"
      ]
     },
     "execution_count": 27,
     "metadata": {},
     "output_type": "execute_result"
    }
   ],
   "source": [
    "p2.article_set.all()"
   ]
  },
  {
   "cell_type": "code",
   "execution_count": 28,
   "metadata": {},
   "outputs": [],
   "source": [
    "a2.publications.add(p1,p2)\n",
    "a2.publications.add(p3)"
   ]
  },
  {
   "cell_type": "code",
   "execution_count": 44,
   "metadata": {},
   "outputs": [
    {
     "data": {
      "text/plain": [
       "<QuerySet [<Publication: The Python Journal>]>"
      ]
     },
     "execution_count": 44,
     "metadata": {},
     "output_type": "execute_result"
    }
   ],
   "source": [
    "a1.publications.all()"
   ]
  },
  {
   "cell_type": "code",
   "execution_count": 45,
   "metadata": {},
   "outputs": [
    {
     "data": {
      "text/plain": [
       "<QuerySet [<Article: NASA uses Python>]>"
      ]
     },
     "execution_count": 45,
     "metadata": {},
     "output_type": "execute_result"
    }
   ],
   "source": [
    "p2.article_set.all()"
   ]
  },
  {
   "cell_type": "code",
   "execution_count": 46,
   "metadata": {},
   "outputs": [
    {
     "data": {
      "text/plain": [
       "<QuerySet [<Article: Django lets you build web apps easily>, <Article: NASA uses Python>]>"
      ]
     },
     "execution_count": 46,
     "metadata": {},
     "output_type": "execute_result"
    }
   ],
   "source": [
    "# 다른 필드에서 참조 하는 인스턴스를 QuerySet 형식으로 반환한다.\n",
    "# 인스턴스.[필드명]_set.all()\n",
    "# 역참조 라고 생각하면 된다.\n",
    "p1.article_set.all() "
   ]
  },
  {
   "cell_type": "code",
   "execution_count": 48,
   "metadata": {},
   "outputs": [
    {
     "data": {
      "text/plain": [
       "<QuerySet [<Article: NASA uses Python>]>"
      ]
     },
     "execution_count": 48,
     "metadata": {},
     "output_type": "execute_result"
    }
   ],
   "source": [
    "p2.article_set.all()\n",
    "p1.article_set.all()"
   ]
  },
  {
   "cell_type": "code",
   "execution_count": 49,
   "metadata": {},
   "outputs": [
    {
     "data": {
      "text/plain": [
       "<QuerySet [<Publication: Science News>]>"
      ]
     },
     "execution_count": 49,
     "metadata": {},
     "output_type": "execute_result"
    }
   ],
   "source": [
    "a4 = Article(headline = 'NASA finds intelligent life on earth')\n",
    "a4.save()\n",
    "p2.article_set.add(a4) # a4.publications.add(p2) 와 동일\n",
    "p2.article_set.all()\n",
    "a4.publications.all()"
   ]
  },
  {
   "cell_type": "code",
   "execution_count": 5,
   "metadata": {},
   "outputs": [],
   "source": [
    "from many_to_many2.models import Person, Group, Membership\n",
    "from datetime import *"
   ]
  },
  {
   "cell_type": "code",
   "execution_count": 3,
   "metadata": {},
   "outputs": [],
   "source": [
    "#Person \n",
    "ringo = Person.objects.create(name='ringo starr')\n",
    "paul = Person.objects.create(name='paull McCartney')"
   ]
  },
  {
   "cell_type": "code",
   "execution_count": 4,
   "metadata": {},
   "outputs": [],
   "source": [
    "#group\n",
    "beatles = Group.objects.create(name='Beatles')"
   ]
  },
  {
   "cell_type": "code",
   "execution_count": 6,
   "metadata": {},
   "outputs": [],
   "source": [
    "#Membership\n",
    "m1 = Membership.objects.create(person=ringo, group=beatles, date_joined=date(1962,8,16), invite_reason ='Needed a new Drummer')"
   ]
  },
  {
   "cell_type": "code",
   "execution_count": 9,
   "metadata": {},
   "outputs": [
    {
     "data": {
      "text/plain": [
       "<QuerySet [<Person: ringo starr>]>"
      ]
     },
     "execution_count": 9,
     "metadata": {},
     "output_type": "execute_result"
    }
   ],
   "source": [
    "beatles.members.all()"
   ]
  },
  {
   "cell_type": "code",
   "execution_count": 10,
   "metadata": {},
   "outputs": [],
   "source": [
    "m2 = Membership.objects.create(person=paul, group=beatles, date_joined=date(1960,8,1), invite_reason ='Wanted to form a band')\n"
   ]
  },
  {
   "cell_type": "code",
   "execution_count": 11,
   "metadata": {},
   "outputs": [
    {
     "data": {
      "text/plain": [
       "<QuerySet [<Person: ringo starr>, <Person: paull McCartney>]>"
      ]
     },
     "execution_count": 11,
     "metadata": {},
     "output_type": "execute_result"
    }
   ],
   "source": [
    "beatles.members.all()"
   ]
  },
  {
   "cell_type": "code",
   "execution_count": null,
   "metadata": {},
   "outputs": [],
   "source": []
  }
 ],
 "metadata": {
  "kernelspec": {
   "display_name": "Django Shell-Plus",
   "language": "python",
   "name": "django_extensions"
  },
  "language_info": {
   "codemirror_mode": {
    "name": "ipython",
    "version": 3
   },
   "file_extension": ".py",
   "mimetype": "text/x-python",
   "name": "python",
   "nbconvert_exporter": "python",
   "pygments_lexer": "ipython3",
   "version": "3.7.5"
  }
 },
 "nbformat": 4,
 "nbformat_minor": 2
}
